{
 "cells": [
  {
   "cell_type": "markdown",
   "metadata": {},
   "source": [
    "Part three of my attempt to predict NCAA tourney results based on past game data. As cleaning and var creation is out of the way now, this segment will focus on fitting the data to different classifiers in scikit-lelarn and tweaking parameters to determine a classification model with the best prediction power."
   ]
  },
  {
   "cell_type": "code",
   "execution_count": 17,
   "metadata": {},
   "outputs": [],
   "source": [
    "import os\n",
    "import numpy as np \n",
    "import pandas as pd \n",
    "import math\n",
    "from sklearn.utils import shuffle\n",
    "from sklearn.preprocessing import Imputer\n",
    "from sklearn.model_selection import train_test_split\n",
    "from sklearn.model_selection import cross_validate\n",
    "from sklearn.feature_selection import SelectPercentile\n",
    "from sklearn.feature_selection import SelectKBest\n",
    "from sklearn.metrics import confusion_matrix\n",
    "from sklearn.preprocessing import StandardScaler\n",
    "\n",
    "from sklearn.linear_model import LogisticRegression\n",
    "from sklearn.linear_model import LogisticRegressionCV\n",
    "from sklearn.model_selection import GridSearchCV\n",
    "from sklearn.ensemble import RandomForestClassifier\n",
    "from sklearn.ensemble import AdaBoostClassifier\n",
    "from sklearn import grid_search\n",
    "from sklearn.naive_bayes import GaussianNB\n",
    "from sklearn.neighbors import KNeighborsClassifier\n",
    "from sklearn.neural_network import MLPClassifier\n",
    "from sklearn import svm\n",
    "\n",
    "import plotly.plotly as py\n",
    "import plotly.graph_objs as go\n",
    "from plotly import tools"
   ]
  },
  {
   "cell_type": "markdown",
   "metadata": {},
   "source": [
    "Import list is large here as I threw in a large amount of the classifiers included in sklearn. As noticeable later, once I get the trainn and test data split I toss it into several different models and use the accuracy scores of each to fine tune//pick a final model.  Data importing next.\n",
    "\n",
    "A few ideas of importance-  I was originally using only the cleaned regular season data (train_data_diff.csv) and splitting it into a test and train. This resulted in extremely high accuracy with most models due to a look ahead bias which was ineherent in training and testing temporal data from the same set (Thanks for the help, Jenn!). As such, I included the tourny_test variable so as to train from regular season data and test on the post-season. This accurately should repressent fitting the 2018 regular season data to the upcoming tourney season. \n",
    "\n",
    "I additionaly cut the 2017 year off of the tourney data so as to have a year completely cut from the dataset to also test. 2017 test data is included in the 'season_test.csv'."
   ]
  },
  {
   "cell_type": "code",
   "execution_count": 18,
   "metadata": {},
   "outputs": [],
   "source": [
    "####################\n",
    "### IMPORT FILES ###\n",
    "####################\n",
    "data_dir = '../data/'\n",
    "df = pd.read_csv(data_dir + 'train_data_diff.csv')\n",
    "sample_sub = pd.read_csv(data_dir + 'SampleSubmissionStage1.csv')\n",
    "n_test_games = len(sample_sub)\n",
    "tourney_tester = pd.read_csv(data_dir + 'season_test.csv')\n",
    "tourny_data = pd.read_csv(data_dir + 'NCAATourneyCompactResults.csv')\n",
    "tourny_data = tourny_data[(tourny_data.Season >= 2003) & (tourny_data.Season <= 2017)]"
   ]
  },
  {
   "cell_type": "markdown",
   "metadata": {},
   "source": [
    "Next is a handful of helper function that will facilitate in extracting the year and teams from Kaggles sample submission. This will allow me to use their sample submission to set predictions and submit to the competition. The get_year_t1_t2 function came from the Basic Starter Kernel of the competition site by Julie Elliott.  \n",
    "\n",
    "The first functions is used to create a win/loss ration which I missed in earlier manipulation. Get_stat will be used to iterate over the test dataset and the sample submission from Kaggle to retrieve the appropriate stat differentials as this is what is primarily used in the training of the model. Probably should have set win and loss variables first instead of writing out this long line using .means().. but this worked out well it seems.  \n",
    "\n",
    "Set and format Train is the function which will be called when creating new data tables for creating the X variables for the test and submission data. This works primarily in connection with get stat. It also creates a Win Loss Ratio for each row and includes the Team ID's for the winners and losers. \n",
    "\n",
    "The final function created provides a way to retrieve the average wins for a TeamID in their post season. IE: Duke on average wins 2.15 games per year in March Madness.  Just another generated var I thought would be (and later after feature selection decidedly is) useful in predicting winners.\n",
    "\n",
    "It take a decent amount of time to iterate through the data and return (~7 minutes or so)."
   ]
  },
  {
   "cell_type": "code",
   "execution_count": 19,
   "metadata": {
    "collapsed": true
   },
   "outputs": [],
   "source": [
    "##############################################\n",
    "########## HELPER FUNCTIONS ##################\n",
    "##############################################\n",
    "'''Set WIN LOSS RATION'''\n",
    "def get_count(teamID, year, wl):\n",
    "    if wl == 1:\n",
    "        try:\n",
    "            return df[(df.TeamID == teamID) & (df.Season == year) & (df.Result == 1)].TeamID.value_counts().iloc[0]\n",
    "        except IndexError:\n",
    "            return 0\n",
    "    else:\n",
    "        try:\n",
    "            return df[(df.TeamID == teamID) & (df.Season == year) & (df.Result == 0)].TeamID.value_counts().iloc[0]\n",
    "        except IndexError:\n",
    "            return 0\n",
    "\n",
    "\n",
    "'''PULL INFO FROM SAMPLE SUBMISSION'''\n",
    "def get_year_t1_t2(ID):\n",
    "    \"\"\"Return a tuple with ints `year`, `team1` and `team2`.\"\"\"\n",
    "    return (int(x) for x in ID.split('_'))\n",
    "\n",
    "\n",
    "'''SETS TEAMS STAT MEAN DIFFERENTIALS BASED ON REGULAR SEASON DATA'''\n",
    "def get_stat(stat, t1, t2, year):\n",
    "    if not math.isnan(df[(df.TeamID == t1) & (df.Season == year)][stat].mean() - df[(df.TeamID == t2) & (df.Season == year)][stat].mean()):\n",
    "        return df[(df.TeamID == t1) & (df.Season == year)][stat].mean() - df[(df.TeamID == t2) & (df.Season == year)][stat].mean()  \n",
    "    else:\n",
    "        return df[(df.TeamID == t1)][stat].mean() - df[(df.TeamID == t2)][stat].mean()\n",
    "\n",
    "\n",
    "\n",
    "'''PULLS TRAINING DATA AND ENTERS INTO EMPTY DATASET'''\n",
    "def set_and_format_train(data_set, input_df, stat_list):\n",
    "    for ii, row in input_df.iterrows():\n",
    "        year, t1, t2 = get_year_t1_t2(row.ID)\n",
    "        col_num = 0\n",
    "    \n",
    "        for team_stat in stat_list:\n",
    "            data_set[ii, col_num] = get_stat(team_stat, t1, t2, year)\n",
    "            col_num += 1\n",
    "            #WL Ratio\n",
    "        data_set[ii, col_num] =  get_count(t1, year, 1)/ (get_count(t1, year, 0) + get_count(t1, year, 1)).astype('float') - \\\n",
    "        get_count(t2, year, 1)/ (get_count(t2, year, 0) + get_count(t2, year, 1)).astype('float')\n",
    "        col_num += 1\n",
    "            #Win average in Tourny\n",
    "        data_set[ii, col_num] = get_win_avg(t1, t2)\n",
    "            \n",
    "'''Get avg wins of tourny games for team'''\n",
    "tourny_data_train = tourny_data[(tourny_data.Season < 2017)]\n",
    "tourny_win_avg = tourny_data_train.groupby('WTeamID').count().Season / tourny_data.groupby('WTeamID').Season.nunique()\n",
    " \n",
    "def get_win_avg(t1, t2):\n",
    "    try:\n",
    "        return tourny_win_avg[t1] - tourny_win_avg[t2]    \n",
    "    except KeyError:\n",
    "        try:\n",
    "            return -tourny_win_avg[t2]\n",
    "        except KeyError:\n",
    "            try:\n",
    "                return tourny_win_avg[t1]\n",
    "            except KeyError:\n",
    "                return 0"
   ]
  },
  {
   "cell_type": "markdown",
   "metadata": {},
   "source": [
    "A little more housecleaning before actual model experimentation.  This will set the win loss ratio for each team in the training dataframe and turn each location variable into categorical dummies. I actually end up never using this as it is extremely difficult to retrieve this information for the test data.. I hope to include it in the final for the 2018 tourney though!\n",
    " \n",
    "NOTE: I also want to eventually include teamID and coaches in as categorical indepent variables as well. Hopefully I'll get some time to add this in eventually.\n"
   ]
  },
  {
   "cell_type": "code",
   "execution_count": 20,
   "metadata": {},
   "outputs": [
    {
     "data": {
      "text/html": [
       "<div>\n",
       "<style>\n",
       "    .dataframe thead tr:only-child th {\n",
       "        text-align: right;\n",
       "    }\n",
       "\n",
       "    .dataframe thead th {\n",
       "        text-align: left;\n",
       "    }\n",
       "\n",
       "    .dataframe tbody tr th {\n",
       "        vertical-align: top;\n",
       "    }\n",
       "</style>\n",
       "<table border=\"1\" class=\"dataframe\">\n",
       "  <thead>\n",
       "    <tr style=\"text-align: right;\">\n",
       "      <th></th>\n",
       "      <th>AST</th>\n",
       "      <th>AST_Diff</th>\n",
       "      <th>BLK</th>\n",
       "      <th>BLK_Diff</th>\n",
       "      <th>Coach</th>\n",
       "      <th>DR</th>\n",
       "      <th>DR_Diff</th>\n",
       "      <th>FGP</th>\n",
       "      <th>FGP3</th>\n",
       "      <th>FGP3_Diff</th>\n",
       "      <th>...</th>\n",
       "      <th>Result</th>\n",
       "      <th>SEED_Diff</th>\n",
       "      <th>STL</th>\n",
       "      <th>STL_Diff</th>\n",
       "      <th>Season</th>\n",
       "      <th>Seed</th>\n",
       "      <th>TeamID</th>\n",
       "      <th>A</th>\n",
       "      <th>H</th>\n",
       "      <th>N</th>\n",
       "    </tr>\n",
       "  </thead>\n",
       "  <tbody>\n",
       "    <tr>\n",
       "      <th>0</th>\n",
       "      <td>14.000000</td>\n",
       "      <td>4.666667</td>\n",
       "      <td>4.176471</td>\n",
       "      <td>0.676471</td>\n",
       "      <td>mark_gottfried</td>\n",
       "      <td>26.411765</td>\n",
       "      <td>3.911765</td>\n",
       "      <td>0.444393</td>\n",
       "      <td>0.347418</td>\n",
       "      <td>0.040750</td>\n",
       "      <td>...</td>\n",
       "      <td>1</td>\n",
       "      <td>9.0</td>\n",
       "      <td>7.235294</td>\n",
       "      <td>1.401961</td>\n",
       "      <td>2003</td>\n",
       "      <td>10.0</td>\n",
       "      <td>1104</td>\n",
       "      <td>0</td>\n",
       "      <td>0</td>\n",
       "      <td>1</td>\n",
       "    </tr>\n",
       "    <tr>\n",
       "      <th>1</th>\n",
       "      <td>15.380952</td>\n",
       "      <td>6.047619</td>\n",
       "      <td>4.095238</td>\n",
       "      <td>0.595238</td>\n",
       "      <td>rick_stansbury</td>\n",
       "      <td>26.380952</td>\n",
       "      <td>3.880952</td>\n",
       "      <td>0.495357</td>\n",
       "      <td>0.361980</td>\n",
       "      <td>0.055311</td>\n",
       "      <td>...</td>\n",
       "      <td>1</td>\n",
       "      <td>4.0</td>\n",
       "      <td>9.285714</td>\n",
       "      <td>3.452381</td>\n",
       "      <td>2003</td>\n",
       "      <td>5.0</td>\n",
       "      <td>1280</td>\n",
       "      <td>0</td>\n",
       "      <td>0</td>\n",
       "      <td>1</td>\n",
       "    </tr>\n",
       "    <tr>\n",
       "      <th>2</th>\n",
       "      <td>13.400000</td>\n",
       "      <td>4.066667</td>\n",
       "      <td>5.750000</td>\n",
       "      <td>2.250000</td>\n",
       "      <td>eddie_sutton</td>\n",
       "      <td>24.500000</td>\n",
       "      <td>2.000000</td>\n",
       "      <td>0.474798</td>\n",
       "      <td>0.382793</td>\n",
       "      <td>0.076124</td>\n",
       "      <td>...</td>\n",
       "      <td>1</td>\n",
       "      <td>5.0</td>\n",
       "      <td>9.650000</td>\n",
       "      <td>3.816667</td>\n",
       "      <td>2003</td>\n",
       "      <td>6.0</td>\n",
       "      <td>1329</td>\n",
       "      <td>0</td>\n",
       "      <td>1</td>\n",
       "      <td>0</td>\n",
       "    </tr>\n",
       "    <tr>\n",
       "      <th>3</th>\n",
       "      <td>14.590909</td>\n",
       "      <td>5.257576</td>\n",
       "      <td>3.818182</td>\n",
       "      <td>0.318182</td>\n",
       "      <td>rick_barnes</td>\n",
       "      <td>26.636364</td>\n",
       "      <td>4.136364</td>\n",
       "      <td>0.456127</td>\n",
       "      <td>0.343126</td>\n",
       "      <td>0.036458</td>\n",
       "      <td>...</td>\n",
       "      <td>1</td>\n",
       "      <td>0.0</td>\n",
       "      <td>6.954545</td>\n",
       "      <td>1.121212</td>\n",
       "      <td>2003</td>\n",
       "      <td>1.0</td>\n",
       "      <td>1400</td>\n",
       "      <td>0</td>\n",
       "      <td>1</td>\n",
       "      <td>0</td>\n",
       "    </tr>\n",
       "    <tr>\n",
       "      <th>4</th>\n",
       "      <td>14.590909</td>\n",
       "      <td>5.257576</td>\n",
       "      <td>3.818182</td>\n",
       "      <td>0.318182</td>\n",
       "      <td>rick_barnes</td>\n",
       "      <td>26.636364</td>\n",
       "      <td>4.136364</td>\n",
       "      <td>0.456127</td>\n",
       "      <td>0.343126</td>\n",
       "      <td>0.036458</td>\n",
       "      <td>...</td>\n",
       "      <td>1</td>\n",
       "      <td>0.0</td>\n",
       "      <td>6.954545</td>\n",
       "      <td>1.121212</td>\n",
       "      <td>2003</td>\n",
       "      <td>1.0</td>\n",
       "      <td>1400</td>\n",
       "      <td>1</td>\n",
       "      <td>0</td>\n",
       "      <td>0</td>\n",
       "    </tr>\n",
       "  </tbody>\n",
       "</table>\n",
       "<p>5 rows × 31 columns</p>\n",
       "</div>"
      ],
      "text/plain": [
       "         AST  AST_Diff       BLK  BLK_Diff           Coach         DR  \\\n",
       "0  14.000000  4.666667  4.176471  0.676471  mark_gottfried  26.411765   \n",
       "1  15.380952  6.047619  4.095238  0.595238  rick_stansbury  26.380952   \n",
       "2  13.400000  4.066667  5.750000  2.250000    eddie_sutton  24.500000   \n",
       "3  14.590909  5.257576  3.818182  0.318182     rick_barnes  26.636364   \n",
       "4  14.590909  5.257576  3.818182  0.318182     rick_barnes  26.636364   \n",
       "\n",
       "    DR_Diff       FGP      FGP3  FGP3_Diff ...  Result  SEED_Diff       STL  \\\n",
       "0  3.911765  0.444393  0.347418   0.040750 ...       1        9.0  7.235294   \n",
       "1  3.880952  0.495357  0.361980   0.055311 ...       1        4.0  9.285714   \n",
       "2  2.000000  0.474798  0.382793   0.076124 ...       1        5.0  9.650000   \n",
       "3  4.136364  0.456127  0.343126   0.036458 ...       1        0.0  6.954545   \n",
       "4  4.136364  0.456127  0.343126   0.036458 ...       1        0.0  6.954545   \n",
       "\n",
       "   STL_Diff  Season  Seed  TeamID  A  H  N  \n",
       "0  1.401961    2003  10.0    1104  0  0  1  \n",
       "1  3.452381    2003   5.0    1280  0  0  1  \n",
       "2  3.816667    2003   6.0    1329  0  1  0  \n",
       "3  1.121212    2003   1.0    1400  0  1  0  \n",
       "4  1.121212    2003   1.0    1400  1  0  0  \n",
       "\n",
       "[5 rows x 31 columns]"
      ]
     },
     "execution_count": 20,
     "metadata": {},
     "output_type": "execute_result"
    }
   ],
   "source": [
    "'''SET DUMMIES'''\n",
    "loc_dummies = pd.get_dummies(df.Loc)\n",
    "df = pd.concat([df, loc_dummies], axis = 1)\n",
    "df.head()"
   ]
  },
  {
   "cell_type": "markdown",
   "metadata": {},
   "source": [
    "Next I create the test dataset.  This pulls the year and team names for a season game then creates team differential variables based on regular season data of that year.  If data from that specific year is unavailable as is the case with some of the teams, an overall team average (throughout all years) is considered."
   ]
  },
  {
   "cell_type": "code",
   "execution_count": 21,
   "metadata": {},
   "outputs": [],
   "source": [
    "#######################################\n",
    "###### CREATE TEST DATA ## ############\n",
    "#######################################\n",
    "'''SET TEST DATAFRAME'''\n",
    "test_data = np.zeros(shape=(len(tourney_tester), 12))\n",
    "\n",
    "'''SETTING FEATURES'''\n",
    "stat_list = ['PPG', 'FGP', 'AST', 'FGP3', 'Seed', 'FTP', 'DR', 'STL', 'BLK', 'Rank'] \n",
    "set_and_format_train(test_data, tourney_tester, stat_list)\n",
    "\n",
    "'''REULTS AND SHUFFLE DATA'''\n",
    "test_data_results = tourney_tester['Result']      \n",
    "X_data, y_data = shuffle(test_data, test_data_results)\n",
    "\n",
    "'''FILL NaN's'''\n",
    "imp = Imputer(missing_values='NaN', strategy='median', axis=1) \n",
    "imp.fit(X_data)\n",
    "X_data = imp.fit_transform(X_data)"
   ]
  },
  {
   "cell_type": "markdown",
   "metadata": {},
   "source": [
    "Time to rescale the features in the dataset! I opted to standardize as, suggested again by a friend, a mean of 0 is nice and efficient for most classifiers. "
   ]
  },
  {
   "cell_type": "code",
   "execution_count": 22,
   "metadata": {
    "collapsed": true
   },
   "outputs": [],
   "source": [
    "######################################\n",
    "######### RESCALE DATA ###############\n",
    "######################################\n",
    "'''Standardize'''\n",
    "scaler = StandardScaler()\n",
    "scaler.fit(X_data)\n",
    "X_data = scaler.transform(X_data)\n"
   ]
  },
  {
   "cell_type": "markdown",
   "metadata": {},
   "source": [
    "And now for setting the training data and splitting into a test set. This will allow for a good amount (80%) of the data to be used in training the model, with the remainder available to test the accuracy of the fit.\n",
    "\n",
    "I had tried a feature selector with a few of the final models, yet inclusion of all 14 features yeilded better results over the versions with only the top 20% influencers... So this is commented out. SelectKBest also appears to increase accuracy for some models, while decreasing for others.. Regardless, I'm leaving it out for this final version.\n",
    "\n",
    "While feature selection might be useful in explaination of the predictions (PPG, WLRatio, Rank, and Win_Avg are by far the top  influenctial variables), I opted to include even minimally influental variables in final model if they added to the accuracy of the final model even slightly.\n",
    "\n",
    "The only unexpected var that required a drop was offensive rebounds. They were all over the place and had no correlation with winning the game whatsoever. Similarly, game location can not be deciphered in the kaggle submission file, so I drop this dummy var as well. I hope to include it back in for the final test when the tourny teams are selected."
   ]
  },
  {
   "cell_type": "code",
   "execution_count": 23,
   "metadata": {},
   "outputs": [
    {
     "data": {
      "text/plain": [
       "960     1\n",
       "543     1\n",
       "1247    0\n",
       "1834    0\n",
       "583     1\n",
       "Name: Result, dtype: int64"
      ]
     },
     "execution_count": 23,
     "metadata": {},
     "output_type": "execute_result"
    }
   ],
   "source": [
    "############################################\n",
    "#### FEATURE SELECTION AND TRAIN SPLIT #####\n",
    "############################################\n",
    "'''SELECTION SCORES'''\n",
    "#X_new = SelectPercentile(percentile = 20).fit_transform(X_data, y_data)\n",
    "\n",
    "selector = SelectKBest(k = 6)\n",
    "X_new = selector.fit_transform(X_data, y_data)\n",
    "#selector.scores_\n",
    "\n",
    "'''SPLIT TRAIN AND TEST'''\n",
    "X_train, X_test, y_train, y_test = train_test_split(X_data, y_data, test_size=0.20, random_state=42)\n",
    "y_train.head()"
   ]
  },
  {
   "cell_type": "markdown",
   "metadata": {},
   "source": [
    "And finally to the model fitting.  Most are commented out which indicates that they were not asd powerful and accurate as the final selected: SVC with a linear kernel. I worry simply judging by accuracy is not the most efficient and apt method to deciding between fits, but it appears to have a direct relation to how highly the final submission scores on Kaggle as well. \n",
    "\n",
    "While Random Forest and SVC both have great accuracy.. as excpected with a dataset like this.. I was excited to see that Adaboost was so efficient at prediction based on the inputs. I had luck with it in past projects and was excited to tune it again. It was also extremely fun to give a neural network a try for the first time with scikit's Multi-layer perceptron classifier. While it gave great accuracy for the cross validation, test results were lackluster."
   ]
  },
  {
   "cell_type": "code",
   "execution_count": 24,
   "metadata": {},
   "outputs": [
    {
     "data": {
      "text/plain": [
       "'Multi-layer Perceptron Classifier (NN)'"
      ]
     },
     "execution_count": 24,
     "metadata": {},
     "output_type": "execute_result"
    }
   ],
   "source": [
    "#######################################\n",
    "######### FITTING MODELS ##############\n",
    "#######################################\n",
    "'''GAUSSIAN NAIVE BAYES'''\n",
    "#clf = GaussianNB()\n",
    "#clf.fit(X_train, y_train)\n",
    "\n",
    "\n",
    "'''LOGISTIC REGRESSION'''\n",
    "#logreg = LogisticRegression()\n",
    "#params = {'C': np.logspace(start=-5, stop=3, num=9)}\n",
    "#clf = GridSearchCV(logreg, params, scoring='neg_log_loss', refit=True)\n",
    "#clf.fit(X_train, y_train)\n",
    "\n",
    "\n",
    "'''LOG REG CV'''\n",
    "#clf = LogisticRegressionCV()\n",
    "#clf.fit(X_train, y_train)\n",
    "\n",
    "\n",
    "'''TRAIN MODEL - RANDOM FOREST'''\n",
    "#clf = RandomForestClassifier(random_state=42)\n",
    "#clf.fit(X_train, y_train)\n",
    "\n",
    "\n",
    "'''ADABOOST'''\n",
    "ada = AdaBoostClassifier()\n",
    "parameters = {'n_estimators':[10,50,100], 'random_state': [None, 0, 42, 138], \\\n",
    "              'learning_rate': [0.1, 0.5, 0.8, 1.0]}\n",
    "clf = grid_search.GridSearchCV(ada, parameters)\n",
    "\n",
    "clf.fit(X_train, y_train)\n",
    "\n",
    "\n",
    "'''K Nearest Neighbor'''\n",
    "#knn = KNeighborsClassifier()\n",
    "#parameters = {'algorithm':['auto','ball_tree', 'kd_tree'], 'n_neighbors': [5, 100], \\\n",
    " #             'weights': ['uniform', 'distance'], 'p': [1, 2]}\n",
    "#clf = grid_search.GridSearchCV(knn, parameters)\n",
    "\n",
    "#clf.fit(X_train, y_train) \n",
    "\n",
    "\n",
    "'''Support Vector Machine''' \n",
    "#svc = svm.SVC()\n",
    "#parameters = {'kernel':['linear','rbf'], 'random_state': [None, 0, 42, 138], \\\n",
    "#              'gamma': ['auto', 0.25, 0.5, 0.7, 0.9], 'C': [0.2, 0.5, 0.8, 1.0], \\\n",
    "#              'probability': [True]}\n",
    "#clf = grid_search.GridSearchCV(svc, parameters)\n",
    "\n",
    "#clf.fit(X_train, y_train)\n",
    "\n",
    "\n",
    "'''Multi-layer Perceptron Classifier (NN)'''\n",
    "#mlp = MLPClassifier()\n",
    "#parameters = {'hidden_layer_sizes':[(100,), (50,),(200,)], 'activation': ['identity','relu', 'logistic', 'tanh'], \\\n",
    "#              'solver': ['adam', 'lbfgs'], 'learning_rate': ['constant', 'invscaling', 'adaptive'], 'max_iter': [100, 200, 300], \\\n",
    "#              'early_stopping': [True]}\n",
    "#clf = grid_search.GridSearchCV(mlp, parameters)\n",
    " \n",
    "#clf.fit(X_train, y_train)\n"
   ]
  },
  {
   "cell_type": "markdown",
   "metadata": {},
   "source": [
    "The next section encompasses the cross validation and accuracy testing for the models.  I utilized a grid search for parameter turning for most of these as well, so gridsearch results are also called for below. Adaboost classifier sits with a final accuracy of around 74% and a average cross validation of around 72%.  Not great, but a better predictor than I could personal result in for march madness games.\n",
    "\n",
    "Confusion matrix is also included jsut to give an idea of where the mistakes in the estimator are."
   ]
  },
  {
   "cell_type": "code",
   "execution_count": 27,
   "metadata": {},
   "outputs": [
    {
     "name": "stdout",
     "output_type": "stream",
     "text": [
      "0.737913486005\n"
     ]
    }
   ],
   "source": [
    "################################\n",
    "### CLASSIFIER  REVIEW ########\n",
    "################################\n",
    "'''FEATURE SELECTION (IF GRIDSEARCH)'''\n",
    "clf.best_estimator_\n",
    "clf.best_score_\n",
    "\n",
    "'''CROSS VALIDATE'''\n",
    "cv_results = cross_validate(clf, X_train, y_train)\n",
    "cv_results['test_score']  \n",
    "\n",
    "'''Confusion Matrix'''\n",
    "y_pred = clf.predict(X_test)\n",
    "# TN,FP, FN, TP\n",
    "confusion_matrix(y_test, y_pred)\n",
    "\n",
    "'''PREDICTOR ACCURACY'''\n",
    "score = clf.score(X_test, y_test)\n",
    "print score"
   ]
  },
  {
   "cell_type": "markdown",
   "metadata": {},
   "source": [
    "Final step is to use the sample submission from Kaggle and report the model's predicted probability for each game.\n",
    "\n",
    "As with the test creation, this section provides the method to iterate through the sample submission and report the model predicted probabilities my fit finds. Sets the differentials and other stats to create appropriate variables to run the model on. Again the iterative functions used add to the overall run time of this cell: (~15 mins). "
   ]
  },
  {
   "cell_type": "code",
   "execution_count": null,
   "metadata": {
    "collapsed": true
   },
   "outputs": [],
   "source": [
    "#######################################\n",
    "###### FORMAT SUBMISSION FILE #########\n",
    "#######################################\n",
    "'''SET TEST DATAFRAME'''\n",
    "X_sub = np.zeros(shape=(n_test_games,  12)) \n",
    "\n",
    "'''SETTING FEATURES'''\n",
    "stat_list = ['PPG', 'FGP', 'AST', 'FGP3', 'Seed', 'FTP', 'DR', 'STL', 'BLK', 'Rank'] \n",
    "set_and_format_train(X_sub, sample_sub, stat_list)\n",
    "\n",
    "'''Fill NaN's'''\n",
    "imp = Imputer(missing_values='NaN', strategy='median', axis=1) \n",
    "imp.fit(X_sub)\n",
    "X_sub = imp.fit_transform(X_sub)"
   ]
  },
  {
   "cell_type": "markdown",
   "metadata": {},
   "source": [
    "And to the final part of the project.. Using the model on the Kaggle sample submission and turning in on the competition site to see how I fare.  Predict_proba is used here as the competition is graded in a log loss method which scores based on the probability scores set to each game. I then clip the extreme ends of the scores as log loss methods highly deduct for highly certain false positives. "
   ]
  },
  {
   "cell_type": "code",
   "execution_count": null,
   "metadata": {
    "collapsed": true
   },
   "outputs": [],
   "source": [
    "'''MAKE PREDICTIONS'''\n",
    "preds = clf.predict_proba(X_sub)[:,1]\n",
    "\n",
    "'''CLIP PREDICTIONS'''\n",
    "clipped_preds = np.clip(preds, 0.05, 0.95)\n",
    "sample_sub.Pred = clipped_preds\n",
    "\n",
    "'''WRITE TO CSV'''\n",
    "#sample_sub.to_csv('Ada_12Feature_clipped_sub.csv', index=False)"
   ]
  },
  {
   "cell_type": "markdown",
   "metadata": {},
   "source": [
    "###Kaggle Results\n",
    "So the decent accuracy of the model on here relates about as expected in a log loss environment.  I scored 0.603 on the competition site.. I believe this equates to around 70% accuracy? Slightly better than the Basic starter kernel which only used Seed differential in predicting probabilities. I'm happy about it, but still far from the top scores in the competition.\n",
    "\n",
    "This is not to say the model will not be effective in round two of the competition where current tourney data is unavailable.  I believe my model's use of only regular season data is both a pro and a con.  It can allow me to appropriately fit each game in the 2018 bracket based soley on regular season data from this year. Conversely, it also does not take into account the randomness that is seen within Tourny games- Hence the 'madness' of the bracket. \n",
    "\n",
    "If time becomes available again for me before the beginning of the tourney, I plan to find a way to include betting market odds  into the training data. I also think utilizing those dummy location variables and introducing team Id's or possibly including some lagged past season tourney placements may help the efficiency of the model as well.\n",
    "\n",
    "###How Did My Predicted Bracket Do:\n",
    "Kaggle: About 50th Percntile.. I'll take it for my first competition submission.\n\n",
	"ESPN: Top 4% of all submitted brackets in ESPN's bracket contest.. Woo!\n"
   ]
  }
 ],
 "metadata": {
  "kernelspec": {
   "display_name": "Python 2",
   "language": "python",
   "name": "python2"
  },
  "language_info": {
   "codemirror_mode": {
    "name": "ipython",
    "version": 2
   },
   "file_extension": ".py",
   "mimetype": "text/x-python",
   "name": "python",
   "nbconvert_exporter": "python",
   "pygments_lexer": "ipython2",
   "version": "2.7.14"
  }
 },
 "nbformat": 4,
 "nbformat_minor": 2
}
