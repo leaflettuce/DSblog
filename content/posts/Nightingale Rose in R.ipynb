{
 "cells": [
  {
   "cell_type": "markdown",
   "metadata": {},
   "source": [
    "Summary:  I recently tracked my daily coffee consumption and thought it would be interesting to find a fun way to visual it. After some exploration of options in R, I decided to give a Nightingale Rose Diagram a try."
   ]
  },
  {
   "cell_type": "code",
   "execution_count": 1,
   "metadata": {
    "collapsed": true
   },
   "outputs": [],
   "source": [
    "library(ggplot2)"
   ]
  },
  {
   "cell_type": "markdown",
   "metadata": {},
   "source": [
    "So I tracked the past 40 or so days of my coffee consumption. It was a method as simple as using my notepad on my phone and listed down the number of ounces per coffee drinking session I had. Variables I tracked were day, time, and volume. While there is probably plenty of othher possibilities that could have been interesting if I tracked a little more, I opted to keep it simple and easy to do so I wouldn't begin to neglect the input of the data."
   ]
  },
  {
   "cell_type": "markdown",
   "metadata": {},
   "source": [
    "After some epxloration, I opted to go with a Nightingale Rose diagram to display this information. Not only does it show overall comparison between the days, but also shows patterns over time and informs on the portions of a whole.. Thats a lot of different ways to display in one visual! \n",
    "\n",
    "On top of this, I found the radial representation to work nicely when discussing coffee. With this in mind, I ended up removing all of the R fluff (title, background, axis, etc). This allowed me to paste the chart over top of a coffee mug (done in paint.net). While this made it maybe a more interesting of a visual overall, it also detracted from the explainability of the visual. To counteract this, I ended up printing out a single petal to the side of the chart and providing a 'How to Read' section. \n",
    "\n",
    "I'm overall happy with how this one turned out. While its almost impossible to determine exactly how much coffee I had daily, I think it provides a nice display for overall pattern depiction.\n",
    "\n",
    "Below is the (relatively simply) code to make a Nightingale Rose in R."
   ]
  },
  {
   "cell_type": "code",
   "execution_count": 2,
   "metadata": {},
   "outputs": [
    {
     "data": {},
     "metadata": {},
     "output_type": "display_data"
    },
    {
     "data": {
      "image/png": "[encoded data removed]",
      "text/plain": [
       "plot without title"
      ]
     },
     "metadata": {},
     "output_type": "display_data"
    }
   ],
   "source": [
    "df <- read.csv('../data/intake.csv')\n",
    "\n",
    "ggplot(data = df, aes(x = day, y = ounces, fill = phase)) +\n",
    "  geom_bar(stat = 'identity', width = 1, color = \"black\", size = 0.1) +\n",
    "  coord_polar() +\n",
    "  scale_fill_manual(values = c('#CC9966', '#996633', '#663300'))+\n",
    "  xlab(\"\") + ylab(\"\") +\n",
    "  labs(fill=\"\") + \n",
    "  guides(fill = guide_legend(reverse=TRUE)) +\n",
    "  theme(\n",
    "    legend.position=\"top\", \n",
    "    legend.direction=\"horizontal\",\n",
    "    panel.grid.major = element_blank(),\n",
    "    #panel.grid.minor = element_blank(),\n",
    "    panel.border = element_blank(),\n",
    "    panel.background = element_blank(),\n",
    "    axis.title.x=element_blank(),\n",
    "    axis.text.x=element_blank(),\n",
    "    axis.ticks.x=element_blank(),\n",
    "    axis.title.y=element_blank(),\n",
    "    axis.text.y=element_blank(),\n",
    "    axis.ticks.y=element_blank()\n",
    "  ) "
   ]
  },
  {
   "cell_type": "markdown",
   "metadata": {},
   "source": [
    "Code was tweaked to pull just one petal as well. Afterwards everything was thrown together in paint.NET with the final result below!\n",
    "<img src = \"../img/coffee/final.png\" style = \"width: 800px;\"/>"
   ]
  },
  {
   "cell_type": "code",
   "execution_count": null,
   "metadata": {
    "collapsed": true
   },
   "outputs": [],
   "source": []
  }
 ],
 "metadata": {
  "kernelspec": {
   "display_name": "R",
   "language": "R",
   "name": "ir"
  },
  "language_info": {
   "codemirror_mode": "r",
   "file_extension": ".r",
   "mimetype": "text/x-r-source",
   "name": "R",
   "pygments_lexer": "r",
   "version": "3.4.3"
  }
 },
 "nbformat": 4,
 "nbformat_minor": 2
}
