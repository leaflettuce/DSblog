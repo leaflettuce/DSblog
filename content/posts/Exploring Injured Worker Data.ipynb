{
 "cells": [
  {
   "cell_type": "markdown",
   "metadata": {
    "collapsed": true
   },
   "source": [
    "Quick and dirty look at the causes of workplace injuries. Data obtained from Kaggle.com and, while not a very comprehensive list (sample size is only 537), I'm using this as more of an experiment with Jupyter notebook and pelican."
   ]
  },
  {
   "cell_type": "code",
   "execution_count": 2,
   "metadata": {},
   "outputs": [
    {
     "name": "stdout",
     "output_type": "stream",
     "text": [
      "{'Bombing, arson': 1,\n",
      " 'Hanging, strangulation, asphyxiation\\x97intentional self-harm': 1,\n",
      " 'Hitting, kicking, beating, shoving': 1,\n",
      " 'Intentional injury by other person': 1,\n",
      " 'Intentional injury by other person, n.e.c.': 1,\n",
      " 'Intentional injury by other person, unspecified': 1,\n",
      " 'Intentional injury by person': 1,\n",
      " 'Intentional injury by person, unspecified': 1,\n",
      " 'Jumping from building or other structure\\x97intentional self-harm': 1,\n",
      " 'Multiple violent acts by other person': 1,\n",
      " 'Rape, sexual assault ': 1,\n",
      " 'Self-inflicted injury\\x97intentional ': 1,\n",
      " 'Self-inflicted injury\\x97intentional, unspecified': 1,\n",
      " 'Shooting by other person\\x97intentional': 1,\n",
      " 'Shooting\\x97intentional self-harm': 1,\n",
      " 'Stabbing, cutting, slashing, piercing': 1,\n",
      " 'Strangulation by other person': 1,\n",
      " 'Threat, verbal assault': 1,\n",
      " 'VIOLENCE AND OTHER INJURIES BY PERSONS OR ANIMALS': 1,\n",
      " 'Violence and other injuries by persons or animals, unspecified': 1}\n",
      "Total injury types in first 20 lines: 20\n"
     ]
    }
   ],
   "source": [
    "import csv\n",
    "import pprint\n",
    "\n",
    "with open('../data/injuries.csv') as csvfile:\n",
    "    df = csv.reader(csvfile, delimiter=',')\n",
    "    next(df)\n",
    "    \n",
    "    injury_collection = {}\n",
    "    row_count = 0\n",
    "    \n",
    "    for i in df:\n",
    "        row_count += 1\n",
    "        injury_type = i[2]\n",
    "        if injury_type in injury_collection:\n",
    "            injury_collection[injury_type] += 1\n",
    "        else:\n",
    "            injury_collection[injury_type] = 1\n",
    "        if row_count == 20:\n",
    "            break\n",
    "        \n",
    "    pprint.pprint(injury_collection)\n",
    "    print 'Total injury types in first 20 lines:',len(injury_collection)\n"
   ]
  },
  {
   "cell_type": "markdown",
   "metadata": {
    "collapsed": true
   },
   "source": [
    "I cut this early.. It appears the dataset needs a lot of cleaning.. Pretty much every single entry is listed as a unique type..  Next step is to aggregate similar categories together:"
   ]
  },
  {
   "cell_type": "code",
   "execution_count": null,
   "metadata": {
    "collapsed": true
   },
   "outputs": [],
   "source": []
  },
  {
   "cell_type": "code",
   "execution_count": 55,
   "metadata": {},
   "outputs": [
    {
     "name": "stdout",
     "output_type": "stream",
     "text": [
      "{'aircraft': 20,\n",
      " 'animal': 30,\n",
      " 'bomb/arson': 1,\n",
      " 'choking': 1,\n",
      " 'collison': 33,\n",
      " 'dangerous substance': 66,\n",
      " 'drug': 3,\n",
      " 'equipment': 60,\n",
      " 'explosion': 11,\n",
      " 'falling': 55,\n",
      " 'fire': 6,\n",
      " 'friction': 16,\n",
      " 'insect': 5,\n",
      " 'intentional by other': 8,\n",
      " 'movement': 79,\n",
      " 'other': 23,\n",
      " 'overexertion': 33,\n",
      " 'self-harm': 11,\n",
      " 'struck': 9,\n",
      " 'transportation': 6,\n",
      " 'unknown': 10,\n",
      " 'vehicle': 51}\n",
      "22\n"
     ]
    }
   ],
   "source": [
    "import csv\n",
    "import pprint\n",
    "\n",
    "with open('../data/injuries.csv') as csvfile:\n",
    "    df = csv.reader(csvfile, delimiter=',')\n",
    "    next(df)\n",
    "    \n",
    "    injury_collection = {}\n",
    "    row_count = 0\n",
    "    \n",
    "    for i in df:\n",
    "        row_count += 1\n",
    "        injury_type = i[2]\n",
    "        \n",
    "        if 'aircraft' in injury_type.lower() or 'in-flight' in injury_type.lower():\n",
    "            injury_type = 'aircraft'\n",
    "            \n",
    "        elif 'animal' in injury_type.lower():\n",
    "            injury_type = 'animal'\n",
    "        \n",
    "        elif 'bending' in injury_type.lower() or 'walking' in injury_type.lower() or 'running' in injury_type.lower() or 'kneeling' in injury_type.lower() or 'jump' in injury_type.lower() or 'sitting' in injury_type.lower() or 'standing' in injury_type.lower() or 'boarding' in injury_type.lower() or 'climbing' in injury_type.lower() or 'slipping' in injury_type.lower():\n",
    "            injury_type = 'movement'\n",
    "            \n",
    "        elif 'bites' in injury_type.lower() or 'bitten' in injury_type.lower():\n",
    "            injury_type = 'insect'\n",
    "            \n",
    "        elif 'aircraft' in injury_type.lower():\n",
    "            injury_type = 'aircraft'\n",
    "        \n",
    "        elif 'bomb' in injury_type.lower() or 'arson' in injury_type.lower():\n",
    "            injury_type = 'bomb/arson'\n",
    "            \n",
    "        elif 'caught' in injury_type.lower() or 'machinery' in injury_type.lower() or 'compressed' in injury_type.lower() or 'structure' in injury_type.lower() or 'equipment' in injury_type.lower():\n",
    "            injury_type = 'equipment'\n",
    "        \n",
    "        elif 'collision' in injury_type.lower():\n",
    "            injury_type = 'collison'\n",
    "            \n",
    "        elif 'contact' in injury_type.lower() or 'exposure' in injury_type.lower() or 'ignition' in injury_type.lower() or 'substance' in injury_type.lower():\n",
    "            injury_type = 'dangerous substance'\n",
    "            \n",
    "        elif 'electricity' in injury_type.lower():\n",
    "            injury_type = 'electric'   \n",
    "        \n",
    "        elif 'drug' in injury_type.lower():\n",
    "            injury_type = 'drug'\n",
    "        \n",
    "        elif 'fall' in injury_type.lower()or 'falls' in injury_type.lower() or 'collapsing' in injury_type.lower():\n",
    "            injury_type = 'falling'\n",
    "            \n",
    "        elif 'explosion' in injury_type.lower():\n",
    "            injury_type = 'explosion'\n",
    "            \n",
    "        elif 'fire' in injury_type.lower():\n",
    "            injury_type = 'fire'\n",
    "            \n",
    "        elif 'drowning' in injury_type.lower() or 'choking on' in injury_type.lower():\n",
    "            injury_type = 'choking'\n",
    "            \n",
    "        elif 'vehicle' in injury_type.lower() or 'overturned' in injury_type.lower() or 'oncoming' in injury_type.lower() or 'vehicular' in injury_type.lower():\n",
    "            injury_type = 'vehicle'\n",
    "            \n",
    "        elif 'unknown' in injury_type.lower():\n",
    "            injury_type = 'unknown'\n",
    "        \n",
    "        elif 'other person' in injury_type.lower() or 'by other' in injury_type.lower():\n",
    "            injury_type = 'intentional by other'\n",
    "        \n",
    "        elif 'self-harm' in injury_type.lower() or 'intentional' in injury_type.lower():\n",
    "            injury_type = 'self-harm'\n",
    "            \n",
    "        elif 'rubbed' in injury_type.lower() or 'repetitive' in injury_type.lower():\n",
    "            injury_type = 'friction'\n",
    "            \n",
    "        elif 'struck' in injury_type.lower():\n",
    "            injury_type = 'struck'\n",
    "        \n",
    "        elif 'transportation' in injury_type.lower() or 'cycle'  in injury_type.lower():\n",
    "            injury_type = 'transportation'\n",
    "            \n",
    "        elif 'overexertion' in injury_type.lower() or 'exertions' in injury_type.lower():\n",
    "            injury_type = 'overexertion'\n",
    "        \n",
    "        else:\n",
    "            injury_type = 'other'\n",
    "            \n",
    "        if injury_type in injury_collection:\n",
    "            injury_collection[injury_type] += 1\n",
    "            \n",
    "        else:\n",
    "            injury_collection[injury_type] = 1\n",
    "        \n",
    "    pprint.pprint(injury_collection)\n",
    "    print len(injury_collection)\n",
    "    \n",
    "    "
   ]
  },
  {
   "cell_type": "markdown",
   "metadata": {},
   "source": [
    "So a quick condensing of the injury type list knocks it down from over 500 entries to 22 specific injury types.  lets plot it real quick with matplotlib!"
   ]
  },
  {
   "cell_type": "code",
   "execution_count": 56,
   "metadata": {},
   "outputs": [
    {
     "data": {
      "image/png": "[encoded data removed]",
      "text/plain": [
       "<matplotlib.figure.Figure at 0x7334df0>"
      ]
     },
     "metadata": {},
     "output_type": "display_data"
    }
   ],
   "source": [
    "import matplotlib.pyplot as plt\n",
    "\n",
    "plt.figure(figsize=(30,12))\n",
    "plt.bar(range(len(injury_collection)), injury_collection.values(), align='center')\n",
    "plt.xticks(range(len(injury_collection)), injury_collection.keys())\n",
    "\n",
    "aplt.show()"
   ]
  },
  {
   "cell_type": "markdown",
   "metadata": {},
   "source": [
    "A nice dataset to test jupyter and pelican with, yet not much use from this info as I could not determine what company this data is originated from.  Aside from injuries from movements (bending/twisting/running/etc), equipment/machinery incidents and being around dangerous substances appear to be the highest causes of workplace injuries."
   ]
  }
 ],
 "metadata": {
  "kernelspec": {
   "display_name": "Python [conda env:numpy]",
   "language": "python",
   "name": "conda-env-numpy-py"
  },
  "language_info": {
   "codemirror_mode": {
    "name": "ipython",
    "version": 2
   },
   "file_extension": ".py",
   "mimetype": "text/x-python",
   "name": "python",
   "nbconvert_exporter": "python",
   "pygments_lexer": "ipython2",
   "version": "2.7.13"
  }
 },
 "nbformat": 4,
 "nbformat_minor": 2
}
