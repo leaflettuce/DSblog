{
 "cells": [
  {
   "cell_type": "markdown",
   "metadata": {
    "collapsed": true
   },
   "source": [
    "Quick and dirty look at the causes of workplace injuries. Data obtained from Kaggle.com and, while not a very comprehensive list (sample size is only 537), I'm using this as more of an experiment with Jupyter notebook and pelican."
   ]
  },
  {
   "cell_type": "code",
   "execution_count": 1,
   "metadata": {},
   "outputs": [
    {
     "name": "stdout",
     "output_type": "stream",
     "text": [
      "{'Bombing, arson': 1,\n",
      " 'Hanging, strangulation, asphyxiation\\x97intentional self-harm': 1,\n",
      " 'Hitting, kicking, beating, shoving': 1,\n",
      " 'Intentional injury by other person': 1,\n",
      " 'Intentional injury by other person, n.e.c.': 1,\n",
      " 'Intentional injury by other person, unspecified': 1,\n",
      " 'Intentional injury by person': 1,\n",
      " 'Intentional injury by person, unspecified': 1,\n",
      " 'Jumping from building or other structure\\x97intentional self-harm': 1,\n",
      " 'Multiple violent acts by other person': 1,\n",
      " 'Rape, sexual assault ': 1,\n",
      " 'Self-inflicted injury\\x97intentional ': 1,\n",
      " 'Self-inflicted injury\\x97intentional, unspecified': 1,\n",
      " 'Shooting by other person\\x97intentional': 1,\n",
      " 'Shooting\\x97intentional self-harm': 1,\n",
      " 'Stabbing, cutting, slashing, piercing': 1,\n",
      " 'Strangulation by other person': 1,\n",
      " 'Threat, verbal assault': 1,\n",
      " 'VIOLENCE AND OTHER INJURIES BY PERSONS OR ANIMALS': 1,\n",
      " 'Violence and other injuries by persons or animals, unspecified': 1}\n",
      "Total injury types in first 20 lines: 20\n"
     ]
    }
   ],
   "source": [
    "import csv\n",
    "import pprint\n",
    "\n",
    "with open('../data/injuries.csv') as csvfile:\n",
    "    df = csv.reader(csvfile, delimiter=',')\n",
    "    next(df)\n",
    "    \n",
    "    injury_collection = {}\n",
    "    row_count = 0\n",
    "    final_count = 0\n",
    "    \n",
    "    for i in df:\n",
    "        row_count += 1\n",
    "        final_count += 1\n",
    "        injury_type = i[2]\n",
    "        if injury_type in injury_collection:\n",
    "            injury_collection[injury_type] += 1\n",
    "        else:\n",
    "            injury_collection[injury_type] = 1\n",
    "        if final_count == 20:\n",
    "            break\n",
    "        \n",
    "    pprint.pprint(injury_collection)\n",
    "    print 'Total injury types in first 20 lines:',len(injury_collection)\n"
   ]
  },
  {
   "cell_type": "markdown",
   "metadata": {
    "collapsed": true
   },
   "source": [
    "It appears the dataset needs a lot of cleaning.. Pretty much every singlke entry is a unique type of injury.. I'll do more soon!"
   ]
  },
  {
   "cell_type": "code",
   "execution_count": null,
   "metadata": {
    "collapsed": true
   },
   "outputs": [],
   "source": []
  }
 ],
 "metadata": {
  "kernelspec": {
   "display_name": "Python 2",
   "language": "python",
   "name": "python2"
  },
  "language_info": {
   "codemirror_mode": {
    "name": "ipython",
    "version": 2
   },
   "file_extension": ".py",
   "mimetype": "text/x-python",
   "name": "python",
   "nbconvert_exporter": "python",
   "pygments_lexer": "ipython2",
   "version": "2.7.13"
  }
 },
 "nbformat": 4,
 "nbformat_minor": 2
}
